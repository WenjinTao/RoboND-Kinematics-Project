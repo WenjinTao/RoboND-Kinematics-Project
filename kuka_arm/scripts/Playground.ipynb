{
 "cells": [
  {
   "cell_type": "code",
   "execution_count": 54,
   "metadata": {
    "collapsed": true
   },
   "outputs": [],
   "source": [
    "import rospy\n",
    "import tf\n",
    "from kuka_arm.srv import *\n",
    "from trajectory_msgs.msg import JointTrajectory, JointTrajectoryPoint\n",
    "from geometry_msgs.msg import Pose\n",
    "from mpmath import *\n",
    "from sympy import *\n",
    "import numpy as np"
   ]
  },
  {
   "cell_type": "code",
   "execution_count": 55,
   "metadata": {
    "collapsed": true
   },
   "outputs": [],
   "source": [
    "# Define DH param symbols\n",
    "alpha0, alpha1, alpha2, alpha3, alpha4, alpha5, alpha6 = symbols('alpha0:7') # twist angle\n",
    "a0, a1, a2, a3, a4, a5, a6 = symbols('a0:7') # joint length\n",
    "d1, d2, d3, d4, d5, d6, d7 = symbols('d1:8') # joint offset\n",
    "\n",
    "# Joint angle symbols\n",
    "q1, q2, q3, q4, q5, q6, q7 = symbols('q1:8') # joint variables: theta_i\n",
    "roll, pitch, yaw = symbols('roll pitch yaw')"
   ]
  },
  {
   "cell_type": "code",
   "execution_count": 56,
   "metadata": {
    "collapsed": true
   },
   "outputs": [],
   "source": [
    "def rot_x(angle):\n",
    "    return Matrix([[ 1,         0,            0],\n",
    "                   [ 0, cos(angle), -sin(angle)],\n",
    "                   [ 0, sin(angle),  cos(angle)]])\n",
    "def rot_y(angle):\n",
    "    return Matrix([[ cos(angle),  0, sin(angle)],\n",
    "                   [          0,  1,          0],\n",
    "                   [-sin(angle),  0, cos(angle)]])\n",
    "def rot_z(angle):\n",
    "    return Matrix([[  cos(angle), -sin(angle), 0],\n",
    "                   [  sin(angle),  cos(angle), 0],\n",
    "                   [      0,        0,         1]])\n",
    "\n",
    "def DH_matrix(alpha, a, d, q):\n",
    "    return Matrix([[            cos(q),           -sin(q),           0,             a],\n",
    "                   [ sin(q)*cos(alpha), cos(q)*cos(alpha), -sin(alpha), -sin(alpha)*d],\n",
    "                   [ sin(q)*sin(alpha), cos(q)*sin(alpha),  cos(alpha),  cos(alpha)*d],\n",
    "                   [                 0,                 0,           0,             1]])"
   ]
  },
  {
   "cell_type": "code",
   "execution_count": 57,
   "metadata": {
    "collapsed": true
   },
   "outputs": [],
   "source": [
    "# Modified DH params\n",
    "s = {alpha0:     0, a0:      0, d1:  0.75,\n",
    "     alpha1: -pi/2, a1:   0.35, d2:     0, q2: q2-pi/2,\n",
    "     alpha2:     0, a2:   1.25, d3:     0,\n",
    "     alpha3: -pi/2, a3: -0.054, d4:  1.50,\n",
    "     alpha4:  pi/2, a4:      0, d5:     0,\n",
    "     alpha5: -pi/2, a5:      0, d6:     0,\n",
    "     alpha6:     0, a6:      0, d7: 0.303, q7: 0}\n",
    "\n",
    "# Define Modified DH Transformation matrix\n",
    "\n",
    "T0_1 = DH_matrix(alpha0, a0, d1, q1).subs(s)        \n",
    "T1_2 = DH_matrix(alpha1, a1, d2, q2).subs(s)        \n",
    "T2_3 = DH_matrix(alpha2, a2, d3, q3).subs(s)\n",
    "\n",
    "T3_4 = DH_matrix(alpha3, a3, d4, q4).subs(s)        \n",
    "T4_5 = DH_matrix(alpha4, a4, d5, q5).subs(s)        \n",
    "T5_6 = DH_matrix(alpha5, a5, d6, q6).subs(s)        \n",
    "T6_G = DH_matrix(alpha6, a6, d7, q7).subs(s)"
   ]
  },
  {
   "cell_type": "code",
   "execution_count": 91,
   "metadata": {
    "collapsed": false
   },
   "outputs": [],
   "source": [
    "R_roll = rot_x(roll)\n",
    "R_pitch = rot_y(pitch)\n",
    "R_yaw = rot_z(yaw)\n",
    "\n",
    "R_z = rot_z(pi)\n",
    "R_y = rot_y(-pi/2)\n",
    "R_corr = R_z * R_y\n",
    "\n",
    "Rrpy = R_yaw * R_pitch * R_roll * R_corr\n",
    "\n",
    "T0_3 = T0_1 * T1_2 * T2_3\n",
    "#        T0_G = T0_3 * T3_4 * T4_5 * T5_6 * T6_G\n",
    "#        T_total = T0_G * R_corr\n",
    "\n",
    "R0_3 = T0_3[0:3, 0:3]\n",
    "\n",
    "R3_6 = R0_3**(-1) * Rrpy"
   ]
  },
  {
   "cell_type": "code",
   "execution_count": 59,
   "metadata": {
    "collapsed": false
   },
   "outputs": [],
   "source": [
    "T0_G = T0_1 * T1_2 * T2_3 * T3_4 * T4_5 * T5_6 * T6_G\n",
    "# T0_G*R_corr"
   ]
  },
  {
   "cell_type": "code",
   "execution_count": 78,
   "metadata": {
    "collapsed": true
   },
   "outputs": [],
   "source": [
    "subs_theta = {q1: -0.95, q2: -0.19, q3: 0.08, q4: 6.06, q5:2.15, q6: 1.74}"
   ]
  },
  {
   "cell_type": "code",
   "execution_count": 79,
   "metadata": {
    "collapsed": false,
    "scrolled": true
   },
   "outputs": [
    {
     "data": {
      "text/plain": [
       "Matrix([\n",
       "[-0.415023115644073,  0.277457922339151, -0.866471531449434, 0.811216459954351],\n",
       "[ 0.261911572623822, -0.875613770385484, -0.405835993028013, -1.23088118025654],\n",
       "[-0.871296816020122, -0.395370239702685,  0.290730514309452,  1.82449618060859],\n",
       "[                 0,                  0,                  0,               1.0]])"
      ]
     },
     "execution_count": 79,
     "metadata": {},
     "output_type": "execute_result"
    }
   ],
   "source": [
    "\n",
    "(T0_G*R_corr).evalf(subs=subs_theta)"
   ]
  },
  {
   "cell_type": "markdown",
   "metadata": {},
   "source": [
    "rviz shows 0.81808, -1.2302, 1.827"
   ]
  },
  {
   "cell_type": "code",
   "execution_count": 80,
   "metadata": {
    "collapsed": false
   },
   "outputs": [
    {
     "data": {
      "text/plain": [
       "Matrix([\n",
       "[0.811216459954351],\n",
       "[-1.23088118025654],\n",
       "[ 1.82449618060859],\n",
       "[              1.0]])"
      ]
     },
     "execution_count": 80,
     "metadata": {},
     "output_type": "execute_result"
    }
   ],
   "source": [
    "# from 0,0,0 of G to the base_link\n",
    "\n",
    "(T0_G*R_corr).evalf(subs=subs_theta)*Matrix([0, 0, 0, 1])"
   ]
  },
  {
   "cell_type": "code",
   "execution_count": 83,
   "metadata": {
    "collapsed": false
   },
   "outputs": [
    {
     "data": {
      "text/plain": [
       "(3, 1)"
      ]
     },
     "execution_count": 83,
     "metadata": {},
     "output_type": "execute_result"
    }
   ],
   "source": [
    "Matrix([0,0,1]).shape"
   ]
  },
  {
   "cell_type": "code",
   "execution_count": 86,
   "metadata": {
    "collapsed": false
   },
   "outputs": [
    {
     "data": {
      "text/plain": [
       "Matrix([\n",
       "[-sin(q4)*sin(q6) + cos(q4)*cos(q5)*cos(q6), -sin(q4)*cos(q6) - sin(q6)*cos(q4)*cos(q5), -sin(q5)*cos(q4)],\n",
       "[                           sin(q5)*cos(q6),                           -sin(q5)*sin(q6),          cos(q5)],\n",
       "[-sin(q4)*cos(q5)*cos(q6) - sin(q6)*cos(q4),  sin(q4)*sin(q6)*cos(q5) - cos(q4)*cos(q6),  sin(q4)*sin(q5)]])"
      ]
     },
     "execution_count": 86,
     "metadata": {},
     "output_type": "execute_result"
    }
   ],
   "source": [
    "R3_6 = simplify(T3_4 * T4_5 * T5_6)[0:3, 0:3]\n",
    "R3_6"
   ]
  },
  {
   "cell_type": "code",
   "execution_count": 84,
   "metadata": {
    "collapsed": false
   },
   "outputs": [
    {
     "data": {
      "text/plain": [
       "3.141592653589793"
      ]
     },
     "execution_count": 84,
     "metadata": {},
     "output_type": "execute_result"
    }
   ],
   "source": [
    "r12, r13 = R[0,1], R[0,2]\n",
    "r21, r22, r23 = R[1,0], R[1,1], R[1,2] \n",
    "r32, r33 = R[2,1], R[2,2]\n",
    "# Euler angles from rotation matrix\n",
    "q5 = atan2(sqrt(r13**2 + r33**2), r23)\n",
    "q4 = atan2(r33, -r13)\n",
    "q6 = atan2(-r22, r21)"
   ]
  },
  {
   "cell_type": "code",
   "execution_count": null,
   "metadata": {
    "collapsed": true
   },
   "outputs": [],
   "source": []
  },
  {
   "cell_type": "code",
   "execution_count": null,
   "metadata": {
    "collapsed": true
   },
   "outputs": [],
   "source": []
  },
  {
   "cell_type": "markdown",
   "metadata": {},
   "source": [
    "## Test IK"
   ]
  },
  {
   "cell_type": "markdown",
   "metadata": {},
   "source": [
    "## Validation\n"
   ]
  },
  {
   "cell_type": "code",
   "execution_count": 124,
   "metadata": {
    "collapsed": false
   },
   "outputs": [],
   "source": [
    "position = [1.8476,1.1,1.0194]\n",
    "orientation = [0.744158,0.474277,-0.209642,0.421118]\n",
    "\n",
    "px, py, pz = position[0], position[1], position[2]\n",
    "ee_roll, ee_pitch, ee_yaw = tf.transformations.euler_from_quaternion(\n",
    "    [orientation[0], orientation[1],orientation[2], orientation[3]])"
   ]
  },
  {
   "cell_type": "code",
   "execution_count": 125,
   "metadata": {
    "collapsed": false
   },
   "outputs": [],
   "source": [
    "R_roll = rot_x(roll)\n",
    "R_pitch = rot_y(pitch)\n",
    "R_yaw = rot_z(yaw)\n",
    "\n",
    "R_z = rot_z(pi)\n",
    "R_y = rot_y(-pi/2)\n",
    "R_corr = R_z * R_y\n",
    "\n",
    "Rrpy = R_yaw * R_pitch * R_roll * R_corr"
   ]
  },
  {
   "cell_type": "code",
   "execution_count": 151,
   "metadata": {
    "collapsed": false
   },
   "outputs": [],
   "source": [
    "P_EE = Matrix([px, py, pz])\n",
    "P_WC = P_EE - Rrpy.evalf(subs={roll: ee_roll, pitch: ee_pitch, yaw: ee_yaw}) * Matrix([0, 0, s[d7]])\n",
    "\n",
    "P_WC_x, P_WC_y, P_WC_z = P_WC[0], P_WC[1], P_WC[2]\n",
    "\n",
    "# 2. calculate theta1:\n",
    "theta1 = atan2(P_WC_y, P_WC_x).evalf()\n",
    "\n",
    "# 3. calculate theta2:\n",
    "# S1: distance between the x-y-plane projections of 2 and 5\n",
    "# s2: P_WC_Z - d1\n",
    "# s3: distance between 2, 5\n",
    "# s4: distance between 3, 5\n",
    "# beta1: atan2(s2, s1)\n",
    "# beta2: angle_325\n",
    "# beta3: angle_235\n",
    "# beta4: pi/2 - angle_23(5^o)\n",
    "\n",
    "S1 = sqrt(P_WC_x**2 + P_WC_y**2) - s[a1]\n",
    "S2 = P_WC_z - s[d1]\n",
    "S3 = sqrt(S1**2 + S2**2)\n",
    "S4 = sqrt(s[d4]**2 + s[a3]**2)\n",
    "beta1 = atan2(S2, S1)\n",
    "cos_beta2 = (s[a2]**2 + S3**2 - S4**2)/(2*s[a2]*S3)\n",
    "\n",
    "sin_beta2 = sqrt(1-cos_beta2**2)\n",
    "beta2 = atan2(sin_beta2, cos_beta2)\n",
    "\n",
    "theta2 = (pi/2 - beta1 - beta2).evalf()             \n",
    "\n",
    "# 4. calculate theta3:\n",
    "cos_beta3 = (s[a2]**2 + S4**2 - S3**2)/(2*s[a2]*S4)\n",
    "sin_beta3 = sqrt(1 - cos_beta3**2)\n",
    "beta3 = atan2(sin_beta3, cos_beta3)\n",
    "beta4 = atan2(-s[a3], s[d4])\n",
    "\n",
    "theta3 = (pi/2 - beta4 - beta3).evalf()\n",
    "\n",
    "# 5. calculate theta4, 5, 6:\n",
    "R3_6_num = R3_6.evalf(subs={q1: theta1, q2: theta2, q3: theta3, roll: ee_roll, pitch: ee_pitch, yaw: ee_yaw})"
   ]
  },
  {
   "cell_type": "code",
   "execution_count": 152,
   "metadata": {
    "collapsed": false
   },
   "outputs": [
    {
     "data": {
      "text/plain": [
       "(Matrix([\n",
       " [ 1.70754640499363],\n",
       " [0.939620269912033],\n",
       " [ 1.23497442497361]]),\n",
       " 0.503054396122224,\n",
       " 0.232694928426853,\n",
       " 0.240249106827666)"
      ]
     },
     "execution_count": 152,
     "metadata": {},
     "output_type": "execute_result"
    }
   ],
   "source": [
    "P_WC, theta1, theta2, theta3"
   ]
  },
  {
   "cell_type": "code",
   "execution_count": 150,
   "metadata": {
    "collapsed": false
   },
   "outputs": [
    {
     "data": {
      "text/plain": [
       "(-0.054, 1.5)"
      ]
     },
     "execution_count": 150,
     "metadata": {},
     "output_type": "execute_result"
    }
   ],
   "source": [
    "s[a3], s[d4]"
   ]
  },
  {
   "cell_type": "code",
   "execution_count": null,
   "metadata": {
    "collapsed": true
   },
   "outputs": [],
   "source": []
  },
  {
   "cell_type": "code",
   "execution_count": 153,
   "metadata": {
    "collapsed": false
   },
   "outputs": [
    {
     "data": {
      "text/plain": [
       "-2.63853825746757"
      ]
     },
     "execution_count": 153,
     "metadata": {},
     "output_type": "execute_result"
    }
   ],
   "source": [
    "theta1-np.pi"
   ]
  },
  {
   "cell_type": "code",
   "execution_count": 154,
   "metadata": {
    "collapsed": false
   },
   "outputs": [],
   "source": []
  },
  {
   "cell_type": "code",
   "execution_count": 155,
   "metadata": {
    "collapsed": false
   },
   "outputs": [],
   "source": [
    "R3_6_num = R3_6.evalf(subs={q1: theta1, q2: theta2, q3: theta3, roll: ee_roll, pitch: ee_pitch, yaw: ee_yaw})\n",
    "\n",
    "r13 = R3_6_num[0,2]\n",
    "r33 = R3_6_num[2,2]\n",
    "\n",
    "r21 = R3_6_num[1,0]\n",
    "r22 = R3_6_num[1,1]\n",
    "\n",
    "r23 = R3_6_num[1,2]\n",
    "\n",
    "theta4 = atan2(r33, -r13).evalf()\n",
    "theta6 = atan2(-r22, r21).evalf()\n",
    "\n",
    "theta5 = atan2(sqrt(1 - r23**2), r23).evalf()"
   ]
  },
  {
   "cell_type": "code",
   "execution_count": 156,
   "metadata": {
    "collapsed": false
   },
   "outputs": [
    {
     "data": {
      "text/plain": [
       "(0.626731467903988, 0.423253864620880, 1.64935246812825)"
      ]
     },
     "execution_count": 156,
     "metadata": {},
     "output_type": "execute_result"
    }
   ],
   "source": [
    "theta4, theta5, theta6.evalf()"
   ]
  },
  {
   "cell_type": "code",
   "execution_count": 157,
   "metadata": {
    "collapsed": false
   },
   "outputs": [
    {
     "data": {
      "text/plain": [
       "0.626731467903988"
      ]
     },
     "execution_count": 157,
     "metadata": {},
     "output_type": "execute_result"
    }
   ],
   "source": [
    "theta4"
   ]
  },
  {
   "cell_type": "code",
   "execution_count": 158,
   "metadata": {
    "collapsed": true
   },
   "outputs": [],
   "source": [
    "R_z = Matrix([[  cos(pi), -sin(pi), 0, 0],\n",
    "               [ sin(pi),  cos(pi), 0, 0],\n",
    "               [       0,        0, 1, 0],\n",
    "               [       0,        0, 0, 1]])\n",
    "\n",
    "R_y = Matrix([[  cos(-pi/2), 0, sin(-pi/2), 0],\n",
    "               [          0, 1,          0, 0],\n",
    "               [-sin(-pi/2), 0, cos(-pi/2), 0],\n",
    "               [          0, 0,          0, 1]])\n",
    "R_corr = simplify(R_z * R_y)"
   ]
  },
  {
   "cell_type": "code",
   "execution_count": 160,
   "metadata": {
    "collapsed": false
   },
   "outputs": [
    {
     "data": {
      "text/plain": [
       "Matrix([\n",
       "[ 0.462223085829612,  0.882442140183783, 0.0874396257655269, 1.8476],\n",
       "[  0.52930603989428, -0.195441866244314, -0.825613464673617,    1.1],\n",
       "[-0.711466749087816,  0.427899925387706, -0.557419697172257, 1.0194],\n",
       "[                 0,                  0,                  0,    1.0]])"
      ]
     },
     "execution_count": 160,
     "metadata": {},
     "output_type": "execute_result"
    }
   ],
   "source": [
    "(T0_G * R_corr).evalf(subs={q1: theta1, q2: theta2, q3: theta3, q4: theta4, q5: theta5, q6: theta6})"
   ]
  },
  {
   "cell_type": "code",
   "execution_count": null,
   "metadata": {
    "collapsed": false
   },
   "outputs": [],
   "source": []
  },
  {
   "cell_type": "code",
   "execution_count": null,
   "metadata": {
    "collapsed": true
   },
   "outputs": [],
   "source": []
  }
 ],
 "metadata": {
  "kernelspec": {
   "display_name": "Python 2",
   "language": "python",
   "name": "python2"
  },
  "language_info": {
   "codemirror_mode": {
    "name": "ipython",
    "version": 2
   },
   "file_extension": ".py",
   "mimetype": "text/x-python",
   "name": "python",
   "nbconvert_exporter": "python",
   "pygments_lexer": "ipython2",
   "version": "2.7.13"
  }
 },
 "nbformat": 4,
 "nbformat_minor": 2
}
